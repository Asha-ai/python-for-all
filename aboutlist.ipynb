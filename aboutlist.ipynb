{
  "nbformat": 4,
  "nbformat_minor": 0,
  "metadata": {
    "colab": {
      "provenance": []
    },
    "kernelspec": {
      "name": "python3",
      "display_name": "Python 3"
    },
    "language_info": {
      "name": "python"
    }
  },
  "cells": [
    {
      "cell_type": "markdown",
      "source": [
        "# list\n",
        "It is an important data structure that is in-built in Python. The data is written inside square brackets ([]), and the values are separated by comma(,)."
      ],
      "metadata": {
        "id": "C67pfJPrtxtD"
      }
    },
    {
      "cell_type": "code",
      "source": [
        "# print a list\n",
        "v = [1,2,3,4]\n",
        "print(v)"
      ],
      "metadata": {
        "colab": {
          "base_uri": "https://localhost:8080/"
        },
        "id": "cYhgtP7_G1lp",
        "outputId": "71e18993-fb7b-44c9-cc17-2d621b5069bd"
      },
      "execution_count": 2,
      "outputs": [
        {
          "output_type": "stream",
          "name": "stdout",
          "text": [
            "[1, 2, 3, 4]\n"
          ]
        }
      ]
    },
    {
      "cell_type": "code",
      "source": [
        "# length of list\n",
        "l = [11,22,33]\n",
        "len(l)"
      ],
      "metadata": {
        "colab": {
          "base_uri": "https://localhost:8080/"
        },
        "id": "ZUqVqx8NLY2q",
        "outputId": "8948975a-1616-4304-908d-41b6817a803f"
      },
      "execution_count": 1,
      "outputs": [
        {
          "output_type": "execute_result",
          "data": {
            "text/plain": [
              "3"
            ]
          },
          "metadata": {},
          "execution_count": 1
        }
      ]
    },
    {
      "cell_type": "markdown",
      "source": [
        "# list predifined  functions\n",
        "1. list.append(elem) -- adds a single element to the end of the list. Common error: does not return the new list, just modifies the original.\n",
        "2. list.insert(index, elem) -- inserts the element at the given index, shifting elements to the right.\n",
        "3. list.extend(list2) adds the elements in list2 to the end of the list. Using + or += on a list is similar to using extend().\n",
        "4. list.index(elem) -- searches for the given element from the start of the list and returns its index. Throws a ValueError if the element does not appear (use \"in\" to check without a ValueError).\n",
        "5. list.remove(elem) -- searches for the first instance of the given element and removes it (throws ValueError if not present)\n",
        "6. list.sort() -- sorts the list in place (does not return it). (The sorted() function shown later is preferred.)\n",
        "7. list.reverse() -- reverses the list in place (does not return it)\n",
        "8. list.pop(index) -- removes and returns the element at the given index. Returns the rightmost element if index is omitted (roughly the opposite of append()). *italicized text*\n",
        "9. list.split() -- split elements"
      ],
      "metadata": {
        "id": "1SDMlmE2sXMF"
      }
    },
    {
      "cell_type": "markdown",
      "source": [
        "# 1. append()"
      ],
      "metadata": {
        "id": "h7-sTgozu8F8"
      }
    },
    {
      "cell_type": "code",
      "source": [
        "# append\n",
        "y = ['x','y']\n",
        "y.append(\"z\")\n",
        "y"
      ],
      "metadata": {
        "colab": {
          "base_uri": "https://localhost:8080/"
        },
        "id": "Gaf9GkDgwUIt",
        "outputId": "7a857bc6-cc28-4720-d030-18bfbed13491"
      },
      "execution_count": 7,
      "outputs": [
        {
          "output_type": "execute_result",
          "data": {
            "text/plain": [
              "['x', 'y', 'z']"
            ]
          },
          "metadata": {},
          "execution_count": 7
        }
      ]
    },
    {
      "cell_type": "code",
      "source": [
        "from IPython.lib.display import YouTubeVideo\n",
        "# append 2 lists\n",
        "z = [\"a\",\"b\"]\n",
        "y = [\"c\",\"d\"]\n",
        "z.append(y)\n",
        "z"
      ],
      "metadata": {
        "colab": {
          "base_uri": "https://localhost:8080/"
        },
        "id": "JZ99aZKJvWPD",
        "outputId": "13e68e9e-d420-4149-a060-afcbfd61c53c"
      },
      "execution_count": 5,
      "outputs": [
        {
          "output_type": "execute_result",
          "data": {
            "text/plain": [
              "['a', 'b', ['c', 'd']]"
            ]
          },
          "metadata": {},
          "execution_count": 5
        }
      ]
    },
    {
      "cell_type": "code",
      "source": [
        "# append using iteration\n",
        "l1 = []\n",
        "for i in range(1,4):\n",
        "  l1.append(i)\n",
        "print(l1)  \n",
        "# append tuple\n",
        "l1.append((4,5))\n",
        "l1"
      ],
      "metadata": {
        "colab": {
          "base_uri": "https://localhost:8080/"
        },
        "id": "nv-FnNzxfKWn",
        "outputId": "8fed3af1-7fd0-4685-acb0-5de5cfdb2418"
      },
      "execution_count": 3,
      "outputs": [
        {
          "output_type": "stream",
          "name": "stdout",
          "text": [
            "[1, 2, 3]\n"
          ]
        },
        {
          "output_type": "execute_result",
          "data": {
            "text/plain": [
              "[1, 2, 3, (4, 5)]"
            ]
          },
          "metadata": {},
          "execution_count": 3
        }
      ]
    },
    {
      "cell_type": "markdown",
      "source": [
        "# 2. insert()"
      ],
      "metadata": {
        "id": "rzmVO2YAy2eF"
      }
    },
    {
      "cell_type": "code",
      "source": [
        "# insert element in index position\n",
        "l = ['a','b']\n",
        "l.insert(1,'c')\n",
        "l"
      ],
      "metadata": {
        "colab": {
          "base_uri": "https://localhost:8080/"
        },
        "id": "Wv641rNey84J",
        "outputId": "b315afb9-d041-4688-fa7a-e4dd0aa1c6f9"
      },
      "execution_count": 14,
      "outputs": [
        {
          "output_type": "execute_result",
          "data": {
            "text/plain": [
              "['a', 'c', 'b']"
            ]
          },
          "metadata": {},
          "execution_count": 14
        }
      ]
    },
    {
      "cell_type": "code",
      "source": [
        "# insert tuple in list\n",
        "l = ['y','z']\n",
        "t = (5,6)\n",
        "l.insert(1,t)\n",
        "l"
      ],
      "metadata": {
        "colab": {
          "base_uri": "https://localhost:8080/"
        },
        "id": "9EECzfjgy85a",
        "outputId": "8abc3f97-e3ee-483c-d4f4-e1c43700d993"
      },
      "execution_count": 1,
      "outputs": [
        {
          "output_type": "execute_result",
          "data": {
            "text/plain": [
              "['y', (5, 6), 'z']"
            ]
          },
          "metadata": {},
          "execution_count": 1
        }
      ]
    },
    {
      "cell_type": "markdown",
      "source": [
        "# 3.extend() "
      ],
      "metadata": {
        "id": "lPOO2MTe9_07"
      }
    },
    {
      "cell_type": "code",
      "source": [
        "l2 = [1,2,3]\n",
        "l2.extend([44,55])\n",
        "l2"
      ],
      "metadata": {
        "colab": {
          "base_uri": "https://localhost:8080/"
        },
        "id": "FhGITHbUfKbT",
        "outputId": "e7b4c985-5f3d-427d-9e25-56c512e8a2ef"
      },
      "execution_count": 17,
      "outputs": [
        {
          "output_type": "execute_result",
          "data": {
            "text/plain": [
              "[1, 2, 3, 44, 55]"
            ]
          },
          "metadata": {},
          "execution_count": 17
        }
      ]
    },
    {
      "cell_type": "markdown",
      "source": [
        "### difference b/w append() and extend()"
      ],
      "metadata": {
        "id": "1SPHTrapWrOi"
      }
    },
    {
      "cell_type": "code",
      "source": [
        "# extend()\n",
        "l = ['a','b']\n",
        "l.extend(['c','d'])\n",
        "print(l)\n",
        "## append()\n",
        "l = ['a','b']\n",
        "l.append(['c','d'])\n",
        "print(l)"
      ],
      "metadata": {
        "colab": {
          "base_uri": "https://localhost:8080/"
        },
        "id": "kKjV9Ll2L3qt",
        "outputId": "a6828636-6def-4583-e4f4-ee6ea32e32f7"
      },
      "execution_count": 10,
      "outputs": [
        {
          "output_type": "stream",
          "name": "stdout",
          "text": [
            "['a', 'b', 'c', 'd']\n",
            "['a', 'b', ['c', 'd']]\n"
          ]
        }
      ]
    },
    {
      "cell_type": "markdown",
      "source": [
        "# 4.index()"
      ],
      "metadata": {
        "id": "D1GstEo8HcFz"
      }
    },
    {
      "cell_type": "code",
      "source": [
        "# print index number\n",
        "a = [\"hello\",\"Hi\",\"hru\"]\n",
        "a.index(\"Hi\")"
      ],
      "metadata": {
        "colab": {
          "base_uri": "https://localhost:8080/"
        },
        "id": "Gcn8QvZlxfDr",
        "outputId": "29c06dae-0c18-4745-9250-6cfa6f4a9837"
      },
      "execution_count": 10,
      "outputs": [
        {
          "output_type": "execute_result",
          "data": {
            "text/plain": [
              "1"
            ]
          },
          "metadata": {},
          "execution_count": 10
        }
      ]
    },
    {
      "cell_type": "code",
      "source": [
        "# print negative index number\n",
        "v = [1,2,3,4]\n",
        "print(v[-1])"
      ],
      "metadata": {
        "colab": {
          "base_uri": "https://localhost:8080/"
        },
        "id": "L2qHMzzlG1nH",
        "outputId": "4b5dd5bc-6d6d-4c87-ce22-b4fa7d546eab"
      },
      "execution_count": 12,
      "outputs": [
        {
          "output_type": "stream",
          "name": "stdout",
          "text": [
            "4\n"
          ]
        }
      ]
    },
    {
      "cell_type": "markdown",
      "source": [
        "# access elements in list in the list"
      ],
      "metadata": {
        "id": "jU25o2QaKK92"
      }
    },
    {
      "cell_type": "code",
      "source": [
        "L = [['a','c'],['b']]\n",
        "print(L[0][1])\n",
        "print(L[1][0])"
      ],
      "metadata": {
        "colab": {
          "base_uri": "https://localhost:8080/"
        },
        "id": "czEybltgG1rq",
        "outputId": "ad7b60b2-786a-4727-aafd-0778b6be2201"
      },
      "execution_count": 7,
      "outputs": [
        {
          "output_type": "stream",
          "name": "stdout",
          "text": [
            "c\n",
            "b\n"
          ]
        }
      ]
    },
    {
      "cell_type": "markdown",
      "source": [
        "# Negative indexing"
      ],
      "metadata": {
        "id": "xFrlztL4c1Mc"
      }
    },
    {
      "cell_type": "code",
      "source": [
        "l = [1,'a','b',2]\n",
        "print(l[-2])\n",
        "print(l[-1])"
      ],
      "metadata": {
        "colab": {
          "base_uri": "https://localhost:8080/"
        },
        "id": "Nnhw-HlxG1vP",
        "outputId": "398b1faa-6d0c-405d-80ea-6f8fb913ae89"
      },
      "execution_count": 8,
      "outputs": [
        {
          "output_type": "stream",
          "name": "stdout",
          "text": [
            "b\n",
            "2\n"
          ]
        }
      ]
    },
    {
      "cell_type": "code",
      "source": [
        "# print list elements through range\n",
        "li = [1,2 ,3, 4, 5]\n",
        "for i in range(5):\n",
        "    print(li[i])"
      ],
      "metadata": {
        "colab": {
          "base_uri": "https://localhost:8080/"
        },
        "id": "J9BC49JFaUie",
        "outputId": "cba8a951-a67f-4f3a-91bd-5d1ef5f42ba1"
      },
      "execution_count": 11,
      "outputs": [
        {
          "output_type": "stream",
          "name": "stdout",
          "text": [
            "1\n",
            "2\n",
            "3\n",
            "4\n",
            "5\n"
          ]
        }
      ]
    },
    {
      "cell_type": "markdown",
      "source": [
        "# 5.remove()"
      ],
      "metadata": {
        "id": "xIU9tSh-rwbl"
      }
    },
    {
      "cell_type": "code",
      "source": [
        "# remove elements using remove\n",
        "list = ['sun','mon','tues','wed']\n",
        "list.remove(\"tues\")\n",
        "print(list)"
      ],
      "metadata": {
        "colab": {
          "base_uri": "https://localhost:8080/"
        },
        "id": "aSURW9ba0jEB",
        "outputId": "abe13c76-195d-42d2-9187-fd25d7391114"
      },
      "execution_count": 13,
      "outputs": [
        {
          "output_type": "stream",
          "name": "stdout",
          "text": [
            "['sun', 'mon', 'wed']\n",
            "d\n",
            "s\n"
          ]
        }
      ]
    },
    {
      "cell_type": "markdown",
      "source": [
        "# 6. sort()"
      ],
      "metadata": {
        "id": "knk5WboP1ise"
      }
    },
    {
      "cell_type": "code",
      "source": [
        "lst = [77,100,88, 99]\n",
        "\n",
        "# sort in decreasing order\n",
        "my_list = sorted(lst, reverse=True) \n",
        "print(\"decending order\")\n",
        "print(my_list)\n",
        "# sort in increasing order\n",
        "my_list = sorted(lst, reverse=False) \n",
        "print(\"assending order\")\n",
        "print(my_list)"
      ],
      "metadata": {
        "colab": {
          "base_uri": "https://localhost:8080/"
        },
        "id": "TY_LyUhC12ao",
        "outputId": "3bb74fc3-ed53-4973-a41e-64dbb39f322b"
      },
      "execution_count": 15,
      "outputs": [
        {
          "output_type": "stream",
          "name": "stdout",
          "text": [
            "decending order\n",
            "[100, 99, 88, 77]\n",
            "assending order\n",
            "[77, 88, 99, 100]\n"
          ]
        }
      ]
    },
    {
      "cell_type": "markdown",
      "source": [
        "# 7.reverse() "
      ],
      "metadata": {
        "id": "f6nl3rjP2y_j"
      }
    },
    {
      "cell_type": "code",
      "source": [
        "# reverse\n",
        "l = [1,2,3]\n",
        "l.reverse()\n",
        "print(l)\n",
        "# reverse using slicing operator\n",
        "l1 = [33,44,11,55]\n",
        "l1[::-1]\n",
        "# Accessing Elements in Reversed Order\n",
        "lst = ['Hello','I','am']\n",
        "\n",
        "# Printing Elements in Reversed Order\n",
        "for i in reversed(lst):\n",
        "    print(i, end = ',')"
      ],
      "metadata": {
        "colab": {
          "base_uri": "https://localhost:8080/"
        },
        "id": "YfPnvSaI27rE",
        "outputId": "58e6593f-3965-4488-a6be-1c8177cc9183"
      },
      "execution_count": 22,
      "outputs": [
        {
          "output_type": "stream",
          "name": "stdout",
          "text": [
            "[3, 2, 1]\n",
            "am,I,Hello,"
          ]
        }
      ]
    },
    {
      "cell_type": "markdown",
      "source": [
        "# 8.pop()"
      ],
      "metadata": {
        "id": "DaB674JEdpok"
      }
    },
    {
      "cell_type": "code",
      "source": [
        "# removes last item in list using pop()\n",
        "l = ['s','u','n','d']\n",
        "print(l.pop())\n",
        "\n",
        "# pop() also works with an index...\n",
        "print(l.pop(0))"
      ],
      "metadata": {
        "colab": {
          "base_uri": "https://localhost:8080/"
        },
        "id": "AAiuVGW4Ge9U",
        "outputId": "24c56d43-4de7-467d-d862-4a1df3afa843"
      },
      "execution_count": 23,
      "outputs": [
        {
          "output_type": "stream",
          "name": "stdout",
          "text": [
            "d\n",
            "s\n"
          ]
        }
      ]
    },
    {
      "cell_type": "markdown",
      "source": [
        "# 9.split() "
      ],
      "metadata": {
        "id": "dlXIDBnWfLZg"
      }
    },
    {
      "cell_type": "code",
      "source": [
        "# split elements in a list\n",
        "s = input(\"Enter elements:\")\n",
        "lst = s.split()\n",
        "print('the list is:',lst)"
      ],
      "metadata": {
        "colab": {
          "base_uri": "https://localhost:8080/"
        },
        "id": "2hKitvNcGe-S",
        "outputId": "a3d09205-d53e-4983-cad7-e590c6d95c94"
      },
      "execution_count": 25,
      "outputs": [
        {
          "output_type": "stream",
          "name": "stdout",
          "text": [
            "Enter elements:hello how are you\n",
            "the list is: ['hello', 'how', 'are', 'you']\n"
          ]
        }
      ]
    }
  ]
}