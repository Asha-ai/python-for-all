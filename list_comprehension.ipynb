{
  "nbformat": 4,
  "nbformat_minor": 0,
  "metadata": {
    "colab": {
      "name": "list_comprehension.ipynb",
      "provenance": []
    },
    "kernelspec": {
      "name": "python3",
      "display_name": "Python 3"
    },
    "language_info": {
      "name": "python"
    }
  },
  "cells": [
    {
      "cell_type": "markdown",
      "source": [
        "# syntax of list comprehention\n",
        "l = [expression for item in list]\n",
        "\n",
        "list = [expression for item in iterable (if conditional)] "
      ],
      "metadata": {
        "id": "QDuq7KZ9ACEt"
      }
    },
    {
      "cell_type": "code",
      "source": [
        "# nested list comprehension\n",
        "[]"
      ],
      "metadata": {
        "id": "_ehbLgce4beu"
      },
      "execution_count": null,
      "outputs": []
    },
    {
      "cell_type": "markdown",
      "source": [
        ""
      ],
      "metadata": {
        "id": "UFksE33k4bzT"
      }
    },
    {
      "cell_type": "code",
      "source": [
        "# Transpose of matrix using list comprehention\n",
        "matrix = [[1, 2], [3,4], [5,6], [7,8]]\n",
        "transpose = [[row[i] for row in matrix] for i in range(2)]\n",
        "transpose"
      ],
      "metadata": {
        "colab": {
          "base_uri": "https://localhost:8080/"
        },
        "id": "ISysW9XhFfOW",
        "outputId": "89efd3b5-24b0-4a69-d7d0-d12ae9b2566b"
      },
      "execution_count": 47,
      "outputs": [
        {
          "output_type": "execute_result",
          "data": {
            "text/plain": [
              "[[1, 3, 5, 7], [2, 4, 6, 8]]"
            ]
          },
          "metadata": {},
          "execution_count": 47
        }
      ]
    },
    {
      "cell_type": "markdown",
      "source": [
        "#Filtering Items In a List#\n"
      ],
      "metadata": {
        "id": "5QU60RrfOZKY"
      }
    },
    {
      "cell_type": "code",
      "source": [
        "# print names if consists of letter 'a'\n",
        "l = [\"Ash\",\"Charan\",\"Indu\",\"Moli\"]\n",
        "nl = [i for i in l if 'a' in i]\n",
        "nl"
      ],
      "metadata": {
        "colab": {
          "base_uri": "https://localhost:8080/"
        },
        "id": "hSWf1ejwGSBF",
        "outputId": "da4f20a7-df4e-4893-df7f-9808be714eaa"
      },
      "execution_count": 58,
      "outputs": [
        {
          "output_type": "execute_result",
          "data": {
            "text/plain": [
              "['Charan']"
            ]
          },
          "metadata": {},
          "execution_count": 58
        }
      ]
    },
    {
      "cell_type": "code",
      "source": [
        "# print words if word count >=4\n",
        "[x for x in l if len(x)>=4]"
      ],
      "metadata": {
        "colab": {
          "base_uri": "https://localhost:8080/"
        },
        "id": "tDnwyDPOGSH1",
        "outputId": "4aa7d772-df77-4089-c7b8-6ba60d1a96a7"
      },
      "execution_count": 59,
      "outputs": [
        {
          "output_type": "execute_result",
          "data": {
            "text/plain": [
              "['Charan', 'Indu', 'Moli']"
            ]
          },
          "metadata": {},
          "execution_count": 59
        }
      ]
    },
    {
      "cell_type": "code",
      "source": [
        "# words end with a and having 4+ characters\n",
        "l = [\"Asha\",\"indu\",\"charan\",\"Meghana\",\"chandan\"]\n",
        "n_l = [i for i in l if len(i)>4 and i.endswith('an')]\n",
        "n_l"
      ],
      "metadata": {
        "colab": {
          "base_uri": "https://localhost:8080/"
        },
        "id": "jVs9hI4LOno1",
        "outputId": "324859cc-553e-486e-d634-0c3bfc2c09aa"
      },
      "execution_count": 67,
      "outputs": [
        {
          "output_type": "execute_result",
          "data": {
            "text/plain": [
              "['charan', 'chandan']"
            ]
          },
          "metadata": {},
          "execution_count": 67
        }
      ]
    },
    {
      "cell_type": "markdown",
      "source": [
        "#Transforming Items in a List#"
      ],
      "metadata": {
        "id": "DYx86j-mPkou"
      }
    },
    {
      "cell_type": "code",
      "source": [
        "# replace a letter with aa\n",
        "m = [\"Mano\",\"sumo\",\"Ragcha\"]\n",
        "l = [x.replace('a','aa') for x in m ]\n",
        "l"
      ],
      "metadata": {
        "colab": {
          "base_uri": "https://localhost:8080/"
        },
        "id": "vWmeCDEmGSLM",
        "outputId": "667093b7-250a-411b-d8b6-19dcd1997db9"
      },
      "execution_count": 60,
      "outputs": [
        {
          "output_type": "execute_result",
          "data": {
            "text/plain": [
              "['Maano', 'sumo', 'Raagchaa']"
            ]
          },
          "metadata": {},
          "execution_count": 60
        }
      ]
    },
    {
      "cell_type": "code",
      "source": [
        "# caetalize and find length of words\n",
        "l = [\"Hello\",\"hi\",\"hru\"]\n",
        "nl = [x.capitalize() for x in l]\n",
        "print(nl)\n",
        "l_w = [len(x) for x in l]\n",
        "print(l_w)"
      ],
      "metadata": {
        "colab": {
          "base_uri": "https://localhost:8080/"
        },
        "id": "Amf0cVJ1Ncrn",
        "outputId": "b9abad71-d429-4fba-bba1-f779209d4006"
      },
      "execution_count": 65,
      "outputs": [
        {
          "output_type": "stream",
          "name": "stdout",
          "text": [
            "['Hello', 'Hi', 'Hru']\n",
            "[5, 2, 3]\n"
          ]
        }
      ]
    },
    {
      "cell_type": "markdown",
      "source": [
        "# Filtering and Transformation, Applied Together#\n"
      ],
      "metadata": {
        "id": "H5BPwN4ySEI0"
      }
    },
    {
      "cell_type": "code",
      "source": [
        "#filter AND transform at the same time\n",
        "# convert into upper case based on condition if a word consists of \"do\" convert that words into upper \n",
        "l = [\"dont\",\"cont\",\"wont\",\"doing\"]\n",
        "n_l = [x.upper() for x in l if 'do' in x ]\n",
        "n_l"
      ],
      "metadata": {
        "colab": {
          "base_uri": "https://localhost:8080/"
        },
        "id": "RSx11s3vNcut",
        "outputId": "6715fb11-5892-4355-e273-4e0620b86fba"
      },
      "execution_count": 70,
      "outputs": [
        {
          "output_type": "execute_result",
          "data": {
            "text/plain": [
              "['DONT', 'DOING']"
            ]
          },
          "metadata": {},
          "execution_count": 70
        }
      ]
    },
    {
      "cell_type": "code",
      "source": [
        "# add some word based on checking by length\n",
        "n = [\"do\",\"go\",\"cant\",\"donot\",\"but\"]\n",
        "n_l = [i+'ing' for i in n if len(i)<=2]\n",
        "n_l"
      ],
      "metadata": {
        "colab": {
          "base_uri": "https://localhost:8080/"
        },
        "id": "L6sCez8yNwU-",
        "outputId": "2c7513b9-9770-4436-9fd8-c0d52e15bf20"
      },
      "execution_count": 77,
      "outputs": [
        {
          "output_type": "execute_result",
          "data": {
            "text/plain": [
              "['doing', 'going']"
            ]
          },
          "metadata": {},
          "execution_count": 77
        }
      ]
    },
    {
      "cell_type": "code",
      "source": [
        "# print lenth of each word based on condition\n",
        "n = [\"do\",\"go\",\"cant\",\"donot\",\"but\"]\n",
        "n_l = [(x,len(x)) for x in n if len(x)<=2]\n",
        "n_l"
      ],
      "metadata": {
        "colab": {
          "base_uri": "https://localhost:8080/"
        },
        "id": "78ERV5HjNwYE",
        "outputId": "f753156e-d5a2-43b4-fdc9-d1708ae71304"
      },
      "execution_count": 79,
      "outputs": [
        {
          "output_type": "execute_result",
          "data": {
            "text/plain": [
              "[('do', 2), ('go', 2)]"
            ]
          },
          "metadata": {},
          "execution_count": 79
        }
      ]
    },
    {
      "cell_type": "markdown",
      "source": [
        "# state names"
      ],
      "metadata": {
        "id": "wQ2dRInVki16"
      }
    },
    {
      "cell_type": "code",
      "source": [
        "states = [\n",
        "'Adilabad','Bhadradri Kothagudem','Hanumakonda','Hyderabad','Jagtial','Jangaon','Jayashankar Bhupalpally','Jogulamba Gadwal','Kamareddy','Karimnagar',\n",
        "'Khammam','Kumuram Bheem','Mahabubabad','Mahabubnagar','Mancherial','Medak','Medchal-Malkajgiri','Mulugu','Nagarkurnool','Nalgonda','Narayanpet',\n",
        "'Nirmal','Nizamabad','Peddapalli','Rajanna Sircilla','Rangareddy','Sangareddy','Siddipet','Suryapet','Vikarabad','Wanaparthy','Warangal','Yadadri Bhuvanagiri']"
      ],
      "metadata": {
        "id": "WAY1sjvKoXl1"
      },
      "execution_count": 99,
      "outputs": []
    },
    {
      "cell_type": "code",
      "source": [
        "# find max city length\n",
        "## remove spaces\n",
        "\n",
        "max([(len(x),x) for x in states if ' ' not in x])"
      ],
      "metadata": {
        "colab": {
          "base_uri": "https://localhost:8080/"
        },
        "id": "hD2-Tly4Nwas",
        "outputId": "2f284a8e-3c41-40c2-dfa6-69bc98cd5d92"
      },
      "execution_count": 100,
      "outputs": [
        {
          "output_type": "execute_result",
          "data": {
            "text/plain": [
              "(18, 'Medchal-Malkajgiri')"
            ]
          },
          "metadata": {},
          "execution_count": 100
        }
      ]
    },
    {
      "cell_type": "code",
      "source": [
        "sorted([(len(x),x) for x in states if ' ' not in x ],reverse=True)[:5]"
      ],
      "metadata": {
        "colab": {
          "base_uri": "https://localhost:8080/"
        },
        "id": "Jq7ELD_ONcxu",
        "outputId": "98e05032-6201-4add-bd07-927009deb673"
      },
      "execution_count": 101,
      "outputs": [
        {
          "output_type": "execute_result",
          "data": {
            "text/plain": [
              "[(18, 'Medchal-Malkajgiri'),\n",
              " (12, 'Nagarkurnool'),\n",
              " (12, 'Mahabubnagar'),\n",
              " (11, 'Mahabubabad'),\n",
              " (11, 'Hanumakonda')]"
            ]
          },
          "metadata": {},
          "execution_count": 101
        }
      ]
    },
    {
      "cell_type": "code",
      "source": [
        "# find average state lentgth\n",
        "sum([len(x) for x in states])/50"
      ],
      "metadata": {
        "colab": {
          "base_uri": "https://localhost:8080/"
        },
        "id": "c9sxUknBlNjA",
        "outputId": "ee61898b-c2a2-482e-dc9f-1d7611fbdbb1"
      },
      "execution_count": 94,
      "outputs": [
        {
          "output_type": "execute_result",
          "data": {
            "text/plain": [
              "8.44"
            ]
          },
          "metadata": {},
          "execution_count": 94
        }
      ]
    },
    {
      "cell_type": "code",
      "source": [
        "min([len(set(x.lower())) for x in states])"
      ],
      "metadata": {
        "colab": {
          "base_uri": "https://localhost:8080/"
        },
        "id": "XAgP74D5lNm3",
        "outputId": "670bb7af-8b4d-4c34-8a16-fbdfaf687e7b"
      },
      "execution_count": 96,
      "outputs": [
        {
          "output_type": "execute_result",
          "data": {
            "text/plain": [
              "3"
            ]
          },
          "metadata": {},
          "execution_count": 96
        }
      ]
    },
    {
      "cell_type": "code",
      "source": [
        "# which state names have no character repetition? length of the lower-cased name\n",
        "[x for x in states if len(x.lower()) == len(set(x.lower()))]"
      ],
      "metadata": {
        "colab": {
          "base_uri": "https://localhost:8080/"
        },
        "id": "5ouDgR6MnUG5",
        "outputId": "50092060-4d5c-4744-890d-5d8188fd4c41"
      },
      "execution_count": 102,
      "outputs": [
        {
          "output_type": "execute_result",
          "data": {
            "text/plain": [
              "['Medak', 'Nirmal', 'Suryapet']"
            ]
          },
          "metadata": {},
          "execution_count": 102
        }
      ]
    },
    {
      "cell_type": "markdown",
      "source": [
        "# Nested List Comprehension\n",
        "A nested list comprehension doubles down on the concept of list comprehensions. It’s a way to combine not only one, but multiple for loops, if statements and functions into a single line of code. This becomes useful when you have a list of lists\n"
      ],
      "metadata": {
        "id": "hY2FgLPPrhfn"
      }
    },
    {
      "cell_type": "code",
      "source": [
        "# create matrix\n",
        "n_l = [[j for j in range(1,3)] for i in range(0,3)]\n",
        "n_l"
      ],
      "metadata": {
        "colab": {
          "base_uri": "https://localhost:8080/"
        },
        "id": "BPPo7-lWp4sI",
        "outputId": "70b44f77-8154-4cb4-cf6d-0eebac17a45b"
      },
      "execution_count": 114,
      "outputs": [
        {
          "output_type": "execute_result",
          "data": {
            "text/plain": [
              "[[0, 1, 2], [0, 1, 2], [0, 1, 2]]"
            ]
          },
          "metadata": {},
          "execution_count": 114
        }
      ]
    },
    {
      "cell_type": "code",
      "source": [
        "# flatten 2D matrix\n",
        "matrix = [[1, 2, 3], [4, 5], [6, 7, 8, 9]]\n",
        "\n",
        "\n",
        "f_m = [j for i in matrix for j in i]\n",
        "f_m"
      ],
      "metadata": {
        "colab": {
          "base_uri": "https://localhost:8080/"
        },
        "id": "ni2w9EIQnUKA",
        "outputId": "b052e55c-c838-458a-9d2b-eaee5ff9c0ad"
      },
      "execution_count": 117,
      "outputs": [
        {
          "output_type": "execute_result",
          "data": {
            "text/plain": [
              "[1, 2, 3, 4, 5, 6, 7, 8, 9]"
            ]
          },
          "metadata": {},
          "execution_count": 117
        }
      ]
    },
    {
      "cell_type": "code",
      "source": [
        "planets = [['Mercury', 'Venus', 'Earth'], ['Mars', 'Jupiter', 'Saturn'], ['Uranus', 'Neptune', 'Pluto']]\n",
        "  \n",
        "# Nested List comprehension with an if condition\n",
        "flatten_planets = [planet for sublist in planets for planet in sublist if len(planet) < 6]\n",
        "flatten_planets        "
      ],
      "metadata": {
        "colab": {
          "base_uri": "https://localhost:8080/"
        },
        "id": "KZd7dcI7uemY",
        "outputId": "196fd9e5-d205-4aa1-ac9a-f5ecd82bae1d"
      },
      "execution_count": 126,
      "outputs": [
        {
          "output_type": "execute_result",
          "data": {
            "text/plain": [
              "['Venus', 'Earth', 'Mars', 'Pluto']"
            ]
          },
          "metadata": {},
          "execution_count": 126
        }
      ]
    },
    {
      "cell_type": "code",
      "source": [
        "Numbers = [[1,2,3,4,5,6,7,8,9,10],\n",
        "          [11,12,13,14,15,16,17,18,19,20]]\n",
        "Result = []\n",
        "for list in Numbers:\n",
        "   Squares = [Number ** 2 for Number in list if Number % 2 == 0]\n",
        "   Result.extend(Squares)\n",
        "Result   "
      ],
      "metadata": {
        "colab": {
          "base_uri": "https://localhost:8080/"
        },
        "id": "OffGFHmTuep2",
        "outputId": "9b30c5ae-4280-4183-abba-80a1a48cbf5a"
      },
      "execution_count": 135,
      "outputs": [
        {
          "output_type": "execute_result",
          "data": {
            "text/plain": [
              "[4, 16, 36, 64, 100, 144, 196, 256, 324, 400]"
            ]
          },
          "metadata": {},
          "execution_count": 135
        }
      ]
    },
    {
      "cell_type": "code",
      "source": [
        "# using itertools\n",
        "!pip install itertools\n",
        "import itertools\n",
        "l1 = [2,4]\n",
        "l2 = [5,6]\n",
        "[l*2 for l in itertools.chain(*[l1,l2])]\n"
      ],
      "metadata": {
        "colab": {
          "base_uri": "https://localhost:8080/"
        },
        "id": "OFSAa55y2bfC",
        "outputId": "9dfcf5cf-d76f-4640-9b8d-afc657fc800d"
      },
      "execution_count": 138,
      "outputs": [
        {
          "output_type": "stream",
          "name": "stdout",
          "text": [
            "Looking in indexes: https://pypi.org/simple, https://us-python.pkg.dev/colab-wheels/public/simple/\n",
            "\u001b[31mERROR: Could not find a version that satisfies the requirement itertools (from versions: none)\u001b[0m\n",
            "\u001b[31mERROR: No matching distribution found for itertools\u001b[0m\n"
          ]
        },
        {
          "output_type": "execute_result",
          "data": {
            "text/plain": [
              "[4, 8, 10, 12]"
            ]
          },
          "metadata": {},
          "execution_count": 138
        }
      ]
    },
    {
      "cell_type": "code",
      "source": [
        "# combination of list elements\n",
        "l1 = [1,2]\n",
        "l2 = [4,5]\n",
        "c_l = []\n",
        "for i in l1:\n",
        "  for j in l2:\n",
        "    c_l.append(tuple((i,j)))\n",
        "print(c_l)    "
      ],
      "metadata": {
        "colab": {
          "base_uri": "https://localhost:8080/"
        },
        "id": "4uSPGyWH2biY",
        "outputId": "6472339b-326e-4415-a304-815a92b2c3f1"
      },
      "execution_count": 140,
      "outputs": [
        {
          "output_type": "stream",
          "name": "stdout",
          "text": [
            "[(1, 4), (1, 5), (2, 4), (2, 5)]\n"
          ]
        }
      ]
    },
    {
      "cell_type": "code",
      "source": [
        ""
      ],
      "metadata": {
        "id": "sa3EU5L8uetX"
      },
      "execution_count": null,
      "outputs": []
    },
    {
      "cell_type": "code",
      "source": [
        "# add all numbers in a list\n",
        "n = [11,22,33]\n",
        "lc = sum([i for i in n])\n",
        "lc"
      ],
      "metadata": {
        "colab": {
          "base_uri": "https://localhost:8080/"
        },
        "id": "qH5aZap55Sn1",
        "outputId": "bf6e8948-8eef-4ac8-976a-f23b43b0514b"
      },
      "execution_count": 17,
      "outputs": [
        {
          "output_type": "execute_result",
          "data": {
            "text/plain": [
              "66"
            ]
          },
          "metadata": {},
          "execution_count": 17
        }
      ]
    },
    {
      "cell_type": "code",
      "source": [
        "# print numbers >2 and leass than 10\n",
        "l = [3,13,5,7,8,2,1,3]\n",
        "nl = [x for x in l if x>2 and x<10]\n",
        "nl"
      ],
      "metadata": {
        "colab": {
          "base_uri": "https://localhost:8080/"
        },
        "id": "SKks8PLHAkHU",
        "outputId": "7afb1154-a159-4052-e486-467437d6696f"
      },
      "execution_count": 33,
      "outputs": [
        {
          "output_type": "execute_result",
          "data": {
            "text/plain": [
              "[3, 5, 7, 8, 3]"
            ]
          },
          "metadata": {},
          "execution_count": 33
        }
      ]
    },
    {
      "cell_type": "code",
      "source": [
        "# remove duplicates fro a list\n",
        "if __name__ == '__main__':\n",
        "  nums = [1,5,2,2,5,3,7]\n",
        "  v = set()\n",
        "  dup = [x for x in nums if x in v or (v.add(x) or False)]\n",
        "  print(dup)\n",
        "\n",
        "# using count function\n",
        "d = {x for x in nums if nums.count(x)>1}\n",
        "d  "
      ],
      "metadata": {
        "colab": {
          "base_uri": "https://localhost:8080/"
        },
        "id": "4uVSmARyBqfx",
        "outputId": "cb4bd7ec-5950-4a7b-f558-8956151eee24"
      },
      "execution_count": 45,
      "outputs": [
        {
          "output_type": "stream",
          "name": "stdout",
          "text": [
            "[2, 5]\n"
          ]
        },
        {
          "output_type": "execute_result",
          "data": {
            "text/plain": [
              "{2, 5}"
            ]
          },
          "metadata": {},
          "execution_count": 45
        }
      ]
    },
    {
      "cell_type": "code",
      "source": [
        "# cube of numbers\n",
        "d = [x**3 for x in range(1,5)]\n",
        "print(d)"
      ],
      "metadata": {
        "colab": {
          "base_uri": "https://localhost:8080/"
        },
        "id": "0lVaKKAw5SYn",
        "outputId": "5ed60a68-a9b3-4b98-ff60-3cffc52fae9b"
      },
      "execution_count": 4,
      "outputs": [
        {
          "output_type": "stream",
          "name": "stdout",
          "text": [
            "[1, 8, 27, 64]\n"
          ]
        }
      ]
    },
    {
      "cell_type": "code",
      "source": [
        "# print first letters\n",
        "li = [\"Asha\",\"Ganesh\",\"Charan\",\"Ragchav\"]\n",
        "n_l = [i[0] for i in li]\n",
        "print(n_l)"
      ],
      "metadata": {
        "colab": {
          "base_uri": "https://localhost:8080/"
        },
        "id": "2VD1BZAk5Sbd",
        "outputId": "bfcbfd27-c5e3-4ce9-c7d9-44d1c25dcc41"
      },
      "execution_count": 6,
      "outputs": [
        {
          "output_type": "stream",
          "name": "stdout",
          "text": [
            "['A', 'G', 'C', 'R']\n"
          ]
        }
      ]
    },
    {
      "cell_type": "code",
      "source": [
        "# List Comprehension Python vs For Loop in Python\n",
        "l = [i for i in \"Asha\"]\n",
        "l"
      ],
      "metadata": {
        "colab": {
          "base_uri": "https://localhost:8080/"
        },
        "id": "5sbV4-Nx5Sed",
        "outputId": "4d0a7195-2e7b-4146-816a-f56198ee0b1b"
      },
      "execution_count": 9,
      "outputs": [
        {
          "output_type": "execute_result",
          "data": {
            "text/plain": [
              "['A', 's', 'h', 'a']"
            ]
          },
          "metadata": {},
          "execution_count": 9
        }
      ]
    },
    {
      "cell_type": "code",
      "source": [
        "#list Comprehension to print even numbers\n",
        "list = [1,2,3,4,5,6,7,8,9]\n",
        "n = [x for x in list if x%2==0]\n",
        "print(n)"
      ],
      "metadata": {
        "colab": {
          "base_uri": "https://localhost:8080/"
        },
        "id": "RPHMMPhE5Skd",
        "outputId": "ab10416c-f5c0-4b1c-afaf-988ee2f4e64f"
      },
      "execution_count": 15,
      "outputs": [
        {
          "output_type": "stream",
          "name": "stdout",
          "text": [
            "[2, 4, 6, 8]\n"
          ]
        }
      ]
    },
    {
      "cell_type": "markdown",
      "source": [
        ""
      ],
      "metadata": {
        "id": "c_DcevUg_97f"
      }
    },
    {
      "cell_type": "code",
      "source": [
        "# print the values div by 2 and 5 with in the range of 0 to 50\n",
        "n_l = [x for x in range(50) if x%2==0 if x%5==0]\n",
        "n_l"
      ],
      "metadata": {
        "colab": {
          "base_uri": "https://localhost:8080/"
        },
        "id": "hph0C9M78KIO",
        "outputId": "b4c494b7-34d0-44f5-8f4a-83bee336818d"
      },
      "execution_count": 20,
      "outputs": [
        {
          "output_type": "execute_result",
          "data": {
            "text/plain": [
              "[0, 10, 20, 30, 40]"
            ]
          },
          "metadata": {},
          "execution_count": 20
        }
      ]
    },
    {
      "cell_type": "code",
      "source": [
        "# print given numbers are even or not\n",
        "l = [30,44,53,67]\n",
        "eo = [f\"{x} is even\" if x%2==0 else f\"{x} is odd\" for x in l]\n",
        "eo"
      ],
      "metadata": {
        "colab": {
          "base_uri": "https://localhost:8080/"
        },
        "id": "gTgw_mxK5Sq1",
        "outputId": "94bd0cfd-4155-40d9-fdc5-fe7cfcefdec4"
      },
      "execution_count": 25,
      "outputs": [
        {
          "output_type": "execute_result",
          "data": {
            "text/plain": [
              "['30 is even', '44 is even', '53 is odd', '67 is odd']"
            ]
          },
          "metadata": {},
          "execution_count": 25
        }
      ]
    },
    {
      "cell_type": "code",
      "source": [
        "# print table\n",
        "t = [[x*y for y in range(1,11)] for x in range(4,7)]\n",
        "print(t)"
      ],
      "metadata": {
        "colab": {
          "base_uri": "https://localhost:8080/"
        },
        "id": "VG4gIoU55St1",
        "outputId": "a1d07abf-c55f-4517-d56b-f1fe9790970b"
      },
      "execution_count": 28,
      "outputs": [
        {
          "output_type": "stream",
          "name": "stdout",
          "text": [
            "[[4, 8, 12, 16, 20, 24, 28, 32, 36, 40], [5, 10, 15, 20, 25, 30, 35, 40, 45, 50], [6, 12, 18, 24, 30, 36, 42, 48, 54, 60]]\n"
          ]
        }
      ]
    },
    {
      "cell_type": "code",
      "source": [
        "# normal for loop tables\n",
        "for x in (4,5):\n",
        "  for y in range(1,11):\n",
        "    print(f\"{x}*{y} = {x*y}\")"
      ],
      "metadata": {
        "colab": {
          "base_uri": "https://localhost:8080/"
        },
        "id": "v_FBeYL_-DSi",
        "outputId": "36266133-95a3-492f-ffa5-c6f1cd91f6d8"
      },
      "execution_count": 32,
      "outputs": [
        {
          "output_type": "stream",
          "name": "stdout",
          "text": [
            "4*1 = 4\n",
            "4*2 = 8\n",
            "4*3 = 12\n",
            "4*4 = 16\n",
            "4*5 = 20\n",
            "4*6 = 24\n",
            "4*7 = 28\n",
            "4*8 = 32\n",
            "4*9 = 36\n",
            "4*10 = 40\n",
            "5*1 = 5\n",
            "5*2 = 10\n",
            "5*3 = 15\n",
            "5*4 = 20\n",
            "5*5 = 25\n",
            "5*6 = 30\n",
            "5*7 = 35\n",
            "5*8 = 40\n",
            "5*9 = 45\n",
            "5*10 = 50\n"
          ]
        }
      ]
    },
    {
      "cell_type": "markdown",
      "source": [
        "Using too much List comprehension in python will make your code unreadable.\n",
        "\n",
        "Yes, list comprehension is very useful to write more beautiful and pythonic code. It is always recommended to use list comprehension in Python but maintain the code readability."
      ],
      "metadata": {
        "id": "6sgu54AJ6RqR"
      }
    },
    {
      "cell_type": "code",
      "source": [
        "import numpy as np\n",
        "nums = [1, 5, 2, 1, 4, 5]\n",
        " \n",
        "nums[:] = np.unique(nums)\n",
        "nums[:] "
      ],
      "metadata": {
        "colab": {
          "base_uri": "https://localhost:8080/"
        },
        "id": "qCrG2FAH-DZB",
        "outputId": "938bb69d-491f-4508-b34f-6680f54621ce"
      },
      "execution_count": 145,
      "outputs": [
        {
          "output_type": "execute_result",
          "data": {
            "text/plain": [
              "[1, 2, 4, 5]"
            ]
          },
          "metadata": {},
          "execution_count": 145
        }
      ]
    }
  ]
}