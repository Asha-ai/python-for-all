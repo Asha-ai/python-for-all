{
  "nbformat": 4,
  "nbformat_minor": 0,
  "metadata": {
    "colab": {
      "name": "python range function.ipynb",
      "provenance": []
    },
    "kernelspec": {
      "name": "python3",
      "display_name": "Python 3"
    },
    "language_info": {
      "name": "python"
    }
  },
  "cells": [
    {
      "cell_type": "markdown",
      "source": [
        "## 1.  Create a sequence of numbers from 0 to 5, and print each item in the sequence:\n"
      ],
      "metadata": {
        "id": "jP94RwmX0Gkd"
      }
    },
    {
      "cell_type": "code",
      "execution_count": null,
      "metadata": {
        "colab": {
          "base_uri": "https://localhost:8080/"
        },
        "id": "YqZgL0jdH27z",
        "outputId": "09960c32-a76e-4c86-8dca-795db40bce5b"
      },
      "outputs": [
        {
          "output_type": "stream",
          "name": "stdout",
          "text": [
            "0\n",
            "1\n",
            "2\n",
            "3\n",
            "4\n",
            "5\n"
          ]
        }
      ],
      "source": [
        "\n",
        "for i in range(0,6):\n",
        "  print(i)"
      ]
    },
    {
      "cell_type": "markdown",
      "source": [
        "## 2. Print odd numebrs 10 below\n"
      ],
      "metadata": {
        "id": "lXZi5b1A0PtV"
      }
    },
    {
      "cell_type": "code",
      "source": [
        "for i in range(1,10,2):\n",
        "  print(i)"
      ],
      "metadata": {
        "colab": {
          "base_uri": "https://localhost:8080/"
        },
        "id": "pw7H7tPhIEiZ",
        "outputId": "fb527616-5ff1-4ff1-a302-9ec5b6176b4e"
      },
      "execution_count": null,
      "outputs": [
        {
          "output_type": "stream",
          "name": "stdout",
          "text": [
            "1\n",
            "3\n",
            "5\n",
            "7\n",
            "9\n"
          ]
        }
      ]
    },
    {
      "cell_type": "markdown",
      "source": [
        "## 3. Print reverse of numbers\n"
      ],
      "metadata": {
        "id": "ZnCp0X130T4W"
      }
    },
    {
      "cell_type": "code",
      "source": [
        "for i in range(10,0,-1):\n",
        "  print(i,end = ' ')\n"
      ],
      "metadata": {
        "colab": {
          "base_uri": "https://localhost:8080/"
        },
        "id": "SEeUqBUeIEmA",
        "outputId": "347d3e63-bc10-4775-d44c-49afc0329b6e"
      },
      "execution_count": null,
      "outputs": [
        {
          "output_type": "stream",
          "name": "stdout",
          "text": [
            "10 9 8 7 6 5 4 3 2 1 "
          ]
        }
      ]
    },
    {
      "cell_type": "markdown",
      "source": [
        "# 4. Print reversed even numbers from 10\n",
        "\n",
        "> Indented block\n",
        "\n",
        "\n",
        "\n",
        "\n",
        "*   List item\n",
        "*   List item\n",
        "\n"
      ],
      "metadata": {
        "id": "ZYz7nKxA0bEh"
      }
    },
    {
      "cell_type": "code",
      "source": [
        "for i in range(10,0,-2):\n",
        "  print(i,end = \" \")"
      ],
      "metadata": {
        "colab": {
          "base_uri": "https://localhost:8080/"
        },
        "id": "gem92ioAL1Ad",
        "outputId": "c3397452-5e61-4d3b-dc81-4b8a62c9e934"
      },
      "execution_count": null,
      "outputs": [
        {
          "output_type": "stream",
          "name": "stdout",
          "text": [
            "10 8 6 4 2 "
          ]
        }
      ]
    },
    {
      "cell_type": "markdown",
      "source": [
        "## 5. Print 0 to *5* using end"
      ],
      "metadata": {
        "id": "F5z4ff0K0wBq"
      }
    },
    {
      "cell_type": "code",
      "source": [
        "x = list(range(6))\n",
        "for i in x:\n",
        "  print(i,end = \" \")\n"
      ],
      "metadata": {
        "colab": {
          "base_uri": "https://localhost:8080/"
        },
        "id": "hOXVF9hPL1Bv",
        "outputId": "0104e652-2013-4389-e9bc-92ea9fae389d"
      },
      "execution_count": null,
      "outputs": [
        {
          "output_type": "stream",
          "name": "stdout",
          "text": [
            "0 1 2 3 4 5 "
          ]
        }
      ]
    },
    {
      "cell_type": "markdown",
      "source": [
        "# 6. Print specific elements"
      ],
      "metadata": {
        "id": "JeNhZhmT03H7"
      }
    },
    {
      "cell_type": "code",
      "source": [
        "# access 5 th nnumber of range\n",
        "x = range(1,10)\n",
        "x[5]"
      ],
      "metadata": {
        "colab": {
          "base_uri": "https://localhost:8080/"
        },
        "id": "ohQ8rOcQL1GZ",
        "outputId": "d7ed40d5-816f-460d-eea7-023243b3c1b2"
      },
      "execution_count": null,
      "outputs": [
        {
          "output_type": "execute_result",
          "data": {
            "text/plain": [
              "6"
            ]
          },
          "metadata": {},
          "execution_count": 12
        }
      ]
    },
    {
      "cell_type": "markdown",
      "source": [
        "## 7. range from 3 to 6 \n"
      ],
      "metadata": {
        "id": "KS6NE3aa1SuD"
      }
    },
    {
      "cell_type": "code",
      "source": [
        "range(10)[3:6]"
      ],
      "metadata": {
        "colab": {
          "base_uri": "https://localhost:8080/"
        },
        "id": "kC9AdXVML1J4",
        "outputId": "fea5d43d-aeba-4ab1-ce8e-159edcfb8c4a"
      },
      "execution_count": null,
      "outputs": [
        {
          "output_type": "execute_result",
          "data": {
            "text/plain": [
              "range(3, 6)"
            ]
          },
          "metadata": {},
          "execution_count": 18
        }
      ]
    },
    {
      "cell_type": "markdown",
      "source": [
        "## 8. inclusive range \n"
      ],
      "metadata": {
        "id": "4c2ACXxa1afJ"
      }
    },
    {
      "cell_type": "code",
      "source": [
        "range(1,10+2,2)"
      ],
      "metadata": {
        "colab": {
          "base_uri": "https://localhost:8080/"
        },
        "id": "UqhnySQ5RzMQ",
        "outputId": "e989e61a-ffcc-4d81-d559-4620a458db0d"
      },
      "execution_count": null,
      "outputs": [
        {
          "output_type": "execute_result",
          "data": {
            "text/plain": [
              "range(1, 12, 2)"
            ]
          },
          "metadata": {},
          "execution_count": 19
        }
      ]
    },
    {
      "cell_type": "markdown",
      "source": [
        "# 9.Print series pattern\n"
      ],
      "metadata": {
        "id": "4rZp8aHT1k2n"
      }
    },
    {
      "cell_type": "code",
      "source": [
        "for i in range(4):\n",
        "  for j in range(i):\n",
        "    print(i, end = \" \")\n",
        "  print()  "
      ],
      "metadata": {
        "colab": {
          "base_uri": "https://localhost:8080/"
        },
        "id": "hd2clX6JIEpt",
        "outputId": "b036f95b-32c1-4bd4-d405-bf1170a28ad9"
      },
      "execution_count": null,
      "outputs": [
        {
          "output_type": "stream",
          "name": "stdout",
          "text": [
            "\n",
            "1 \n",
            "2 2 \n",
            "3 3 3 \n"
          ]
        }
      ]
    },
    {
      "cell_type": "markdown",
      "source": [
        "## 10. function with range and reversed\n"
      ],
      "metadata": {
        "id": "5RFozPC92Q1_"
      }
    },
    {
      "cell_type": "code",
      "source": [
        "for i in reversed(range(1,10)):\n",
        "  print(i,end = \" \")"
      ],
      "metadata": {
        "colab": {
          "base_uri": "https://localhost:8080/"
        },
        "id": "6jd1W0tQS3eq",
        "outputId": "03ace0e2-23af-4974-c0e6-2b5ef7ad8b4e"
      },
      "execution_count": null,
      "outputs": [
        {
          "output_type": "stream",
          "name": "stdout",
          "text": [
            "9 8 7 6 5 4 3 2 1 "
          ]
        }
      ]
    },
    {
      "cell_type": "markdown",
      "source": [
        "# 11. print reversed even numbers from 20 to 1\n"
      ],
      "metadata": {
        "id": "_TAVqAPF2ksJ"
      }
    },
    {
      "cell_type": "code",
      "source": [
        "for i in reversed(range(0,20,2)):\n",
        "  print(i,end = \" \")"
      ],
      "metadata": {
        "colab": {
          "base_uri": "https://localhost:8080/"
        },
        "id": "SA2WlVVsS3rz",
        "outputId": "8fa2e2ba-d332-4097-cdf4-d12f1c4b9bef"
      },
      "execution_count": null,
      "outputs": [
        {
          "output_type": "stream",
          "name": "stdout",
          "text": [
            "18 16 14 12 10 8 6 4 2 0 "
          ]
        }
      ]
    },
    {
      "cell_type": "markdown",
      "source": [
        "## 12. range function with len"
      ],
      "metadata": {
        "id": "jRsZYYkZ2vg4"
      }
    },
    {
      "cell_type": "code",
      "source": [
        "l = [10,20,30,40,50] \n",
        "for i in range(len(l)-1,-1,-1):\n",
        "  print(l[i],end = \" \") "
      ],
      "metadata": {
        "colab": {
          "base_uri": "https://localhost:8080/"
        },
        "id": "OMok6psVS3v7",
        "outputId": "0637a2e1-3a0c-491b-cb1b-19a19f1b07e2"
      },
      "execution_count": null,
      "outputs": [
        {
          "output_type": "stream",
          "name": "stdout",
          "text": [
            "50 40 30 20 10 "
          ]
        }
      ]
    },
    {
      "cell_type": "markdown",
      "source": [
        "## 13.range function with negative print order numbers\n",
        "\n",
        "```\n",
        "# This is formatted as code\n",
        "```\n",
        "\n",
        " "
      ],
      "metadata": {
        "id": "BWVcGU2w2-2W"
      }
    },
    {
      "cell_type": "code",
      "source": [
        "for i in range(-1,-11,-1):\n",
        "  print(i,end=\" \")"
      ],
      "metadata": {
        "colab": {
          "base_uri": "https://localhost:8080/"
        },
        "id": "Xf70r1FLUKSS",
        "outputId": "37c2ce93-3444-4349-c6b8-2c50f43aa03d"
      },
      "execution_count": null,
      "outputs": [
        {
          "output_type": "stream",
          "name": "stdout",
          "text": [
            "-1 -2 -3 -4 -5 -6 -7 -8 -9 -10 "
          ]
        }
      ]
    },
    {
      "cell_type": "markdown",
      "source": [
        "## 14. range function with negative and positive print order numbers\n"
      ],
      "metadata": {
        "id": "ewRP-Tin3Rd1"
      }
    },
    {
      "cell_type": "code",
      "source": [
        "for i in range(2,-5,-1):\n",
        "  print(i,end = \" \")"
      ],
      "metadata": {
        "colab": {
          "base_uri": "https://localhost:8080/"
        },
        "id": "wnpIe1y0W_OH",
        "outputId": "4fd8ffc3-05a2-48b4-d453-03d0f7942b5b"
      },
      "execution_count": null,
      "outputs": [
        {
          "output_type": "stream",
          "name": "stdout",
          "text": [
            "2 1 0 -1 -2 -3 -4 "
          ]
        }
      ]
    },
    {
      "cell_type": "markdown",
      "source": [
        "## 15. print a- z letters"
      ],
      "metadata": {
        "id": "pOUq27Ab3gZd"
      }
    },
    {
      "cell_type": "code",
      "source": [
        "# alphabets - we will get error, if we use code like this\n",
        "#for char in range ('a','z'):\n",
        "#    print(char)\n",
        "def ch(ch1,ch2):\n",
        "  for i in range(ord(ch1),ord(ch2)+1):\n",
        "    yield(i)\n",
        "for l in ch('a','z'):\n",
        "  print(chr(l),end=\",\") "
      ],
      "metadata": {
        "colab": {
          "base_uri": "https://localhost:8080/"
        },
        "id": "Aa1einNRW_PT",
        "outputId": "fabd8064-1f38-4c4b-905d-fef275ab408e"
      },
      "execution_count": null,
      "outputs": [
        {
          "output_type": "stream",
          "name": "stdout",
          "text": [
            "a,b,c,d,e,f,g,h,i,j,k,l,m,n,o,p,q,r,s,t,u,v,w,x,y,z,"
          ]
        }
      ]
    },
    {
      "cell_type": "code",
      "source": [
        "# or \n",
        "def main():\n",
        "  for i in range(97,123):\n",
        "    print(chr(i),end=' ')\n",
        "main()  "
      ],
      "metadata": {
        "colab": {
          "base_uri": "https://localhost:8080/"
        },
        "id": "vinwNm3UW_T0",
        "outputId": "29e36b47-e0c1-4999-b6ed-554bb1c79388"
      },
      "execution_count": null,
      "outputs": [
        {
          "output_type": "stream",
          "name": "stdout",
          "text": [
            "a b c d e f g h i j k l m n o p q r s t u v w x y z "
          ]
        }
      ]
    },
    {
      "cell_type": "markdown",
      "source": [
        "## 16.  print sum of list of numbers using range"
      ],
      "metadata": {
        "id": "mJW8kyeZ3qOQ"
      }
    },
    {
      "cell_type": "code",
      "source": [
        "l = [10,20,30]\n",
        "for i in range(len(l)):\n",
        "  print(l[i],end = \" \")\n",
        "\n",
        "print(\"\\n\")\n",
        "sum = 0\n",
        "for j in range(0,10):\n",
        "  sum = sum+j\n",
        "print(\"sum of numbers:\",sum)"
      ],
      "metadata": {
        "colab": {
          "base_uri": "https://localhost:8080/"
        },
        "id": "rtjNBrBFUKTx",
        "outputId": "70d3dc08-ca5b-4b6a-f3c8-8e49da4ae964"
      },
      "execution_count": null,
      "outputs": [
        {
          "output_type": "stream",
          "name": "stdout",
          "text": [
            "10 20 30 \n",
            "\n",
            "45\n"
          ]
        }
      ]
    },
    {
      "cell_type": "markdown",
      "source": [
        "## 17. print 10 to 20 numbers."
      ],
      "metadata": {
        "id": "l42hhkAW4fkf"
      }
    },
    {
      "cell_type": "code",
      "source": [
        "from itertools import chain\n",
        "res = chain(range(5),range(10,20,2))\n",
        "for i in res:\n",
        "  print(i,end = \" \")\n"
      ],
      "metadata": {
        "colab": {
          "base_uri": "https://localhost:8080/"
        },
        "id": "bw7GYl2Z3whC",
        "outputId": "25b62fb0-db7f-48ca-89fb-87d44e81ad72"
      },
      "execution_count": null,
      "outputs": [
        {
          "output_type": "stream",
          "name": "stdout",
          "text": [
            "0 1 2 3 4 10 12 14 16 18 "
          ]
        }
      ]
    },
    {
      "cell_type": "markdown",
      "source": [
        "## 18. Print 20 to 30 even numbers\n",
        "*italicized text*"
      ],
      "metadata": {
        "id": "Vz-tKyli5C_9"
      }
    },
    {
      "cell_type": "code",
      "source": [
        "for number in range(20,30,2):\n",
        "    print(number, end=\" \")"
      ],
      "metadata": {
        "colab": {
          "base_uri": "https://localhost:8080/"
        },
        "id": "7XfoNUxt3wl9",
        "outputId": "9ebcca1e-3934-4141-8383-9377c3ddb6d1"
      },
      "execution_count": 3,
      "outputs": [
        {
          "output_type": "stream",
          "name": "stdout",
          "text": [
            "20 22 24 26 28 "
          ]
        }
      ]
    },
    {
      "cell_type": "markdown",
      "source": [
        "## 19. Print 20 to 30 even numbers\n"
      ],
      "metadata": {
        "id": "vq3CpJ3G5GgZ"
      }
    },
    {
      "cell_type": "code",
      "source": [
        "l=[\"apple\", \"orange\", 20]\n",
        "for i in range(len(l)):\n",
        "  print(l[i],end=\" \")"
      ],
      "metadata": {
        "id": "ioy9ih4LxmVH",
        "colab": {
          "base_uri": "https://localhost:8080/"
        },
        "outputId": "79fc8390-aa23-4358-c2b8-3ff3fe10b977"
      },
      "execution_count": 4,
      "outputs": [
        {
          "output_type": "stream",
          "name": "stdout",
          "text": [
            "apple orange 20 "
          ]
        }
      ]
    },
    {
      "cell_type": "code",
      "source": [
        ""
      ],
      "metadata": {
        "id": "N3sy1idttgeD"
      },
      "execution_count": null,
      "outputs": []
    },
    {
      "cell_type": "code",
      "source": [
        ""
      ],
      "metadata": {
        "id": "ApVrOeQ8tgfn"
      },
      "execution_count": null,
      "outputs": []
    },
    {
      "cell_type": "code",
      "source": [
        ""
      ],
      "metadata": {
        "id": "WBmoPU4Otgjs"
      },
      "execution_count": null,
      "outputs": []
    },
    {
      "cell_type": "code",
      "source": [
        ""
      ],
      "metadata": {
        "id": "CH2feSVQtglC"
      },
      "execution_count": null,
      "outputs": []
    },
    {
      "cell_type": "code",
      "source": [
        ""
      ],
      "metadata": {
        "id": "2ra_H10kxmWK"
      },
      "execution_count": null,
      "outputs": []
    },
    {
      "cell_type": "code",
      "source": [
        ""
      ],
      "metadata": {
        "id": "yD3u97MR3wnQ"
      },
      "execution_count": null,
      "outputs": []
    }
  ]
}